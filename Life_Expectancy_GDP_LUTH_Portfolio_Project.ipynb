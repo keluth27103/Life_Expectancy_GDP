{
 "cells": [
  {
   "cell_type": "markdown",
   "id": "518ef676",
   "metadata": {},
   "source": [
    "## Connections between Life Expectancy and GDP for 6 countries\n",
    "\n",
    "#### In this project, connections between GDP and life expectancy will be explored for 6 countries using a data set from the World Health Organization.\n",
    "\n",
    "#### Project Objectives:\n",
    "##### * Complete project to add to portfolio\n",
    "##### * Use seaborn and Matplotlib to create visualizations\n",
    "##### * Become familiar with presenting and sharing data visualizations\n",
    "##### * Preprocess, explore, and analyze data"
   ]
  },
  {
   "cell_type": "code",
   "execution_count": null,
   "id": "24e6b54a",
   "metadata": {},
   "outputs": [],
   "source": []
  }
 ],
 "metadata": {
  "kernelspec": {
   "display_name": "Python 3 (ipykernel)",
   "language": "python",
   "name": "python3"
  },
  "language_info": {
   "codemirror_mode": {
    "name": "ipython",
    "version": 3
   },
   "file_extension": ".py",
   "mimetype": "text/x-python",
   "name": "python",
   "nbconvert_exporter": "python",
   "pygments_lexer": "ipython3",
   "version": "3.9.7"
  }
 },
 "nbformat": 4,
 "nbformat_minor": 5
}
